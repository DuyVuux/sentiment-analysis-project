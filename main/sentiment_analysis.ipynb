{
  "cells": [
    {
      "cell_type": "markdown",
      "metadata": {
        "id": "cConP33LZCg9"
      },
      "source": [
        "\n",
        "\n",
        "#**Sentiment Analysis: Optimizing Time Savings and Cost Efficiency in the Film Industry**"
      ]
    },
    {
      "cell_type": "markdown",
      "metadata": {
        "_uuid": "1424638f5259100af9f9a5c1b05bd23cf5b71e51",
        "id": "nFGjp-2xvVIx"
      },
      "source": [
        "## **1.Import necessary libraries**"
      ]
    },
    {
      "cell_type": "code",
      "execution_count": null,
      "metadata": {
        "_cell_guid": "79c7e3d0-c299-4dcb-8224-4455121ee9b0",
        "_uuid": "d629ff2d2480ee46fbb7e2d37f6b5fab8052498a",
        "id": "Eu_wH_YOvVIx",
        "trusted": true
      },
      "outputs": [],
      "source": [
        "import numpy as np\n",
        "import pandas as pd\n",
        "import seaborn as sns\n",
        "import matplotlib.pyplot as plt\n",
        "import nltk  # For natural language processing (NLP)\n",
        "from sklearn.feature_extraction.text import CountVectorizer  # Converts text into numerical representation using Bag of Words\n",
        "from sklearn.feature_extraction.text import TfidfVectorizer  # Computes TF-IDF from text\n",
        "from sklearn.preprocessing import LabelBinarizer  # For binarizing labels\n",
        "from nltk.corpus import stopwords  # List of common words usually ignored in text analysis\n",
        "from nltk.stem.porter import PorterStemmer  # For stemming using the Porter algorithm\n",
        "from wordcloud import WordCloud, STOPWORDS  # To create word cloud visualizations from text\n",
        "from nltk.stem import WordNetLemmatizer  # For lemmatization using WordNet\n",
        "from nltk.tokenize import word_tokenize, sent_tokenize  # For word and sentence tokenization\n",
        "from bs4 import BeautifulSoup  # For HTML and XML parsing (web scraping)\n",
        "import spacy  # Fast and efficient NLP library\n",
        "import re, string, unicodedata  # For string manipulation and text normalization\n",
        "from nltk.tokenize.toktok import ToktokTokenizer  # More efficient tokenizer\n",
        "from nltk.stem import LancasterStemmer, WordNetLemmatizer  # Alternatives for stemming and lemmatization\n",
        "from sklearn.linear_model import LogisticRegression, SGDClassifier  # Logistic regression and SGD classifiers for classification\n",
        "from sklearn.naive_bayes import MultinomialNB  # Classification using Naive Bayes\n",
        "from sklearn.svm import SVC  # Support Vector Classifier\n",
        "from textblob import TextBlob  # For text and sentiment analysis\n",
        "from textblob import Word  # For word processing\n",
        "from sklearn.metrics import classification_report, confusion_matrix, accuracy_score  # For model evaluation\n",
        "import time  # For measuring code execution time\n",
        "\n",
        "import warnings\n",
        "warnings.filterwarnings('ignore')  # Ignore warnings\n",
        "\n",
        "# Setting up the visualization style\n",
        "sns.set(style='whitegrid')\n"
      ]
    },
    {
      "cell_type": "markdown",
      "metadata": {
        "_uuid": "be1b642cce343f7a8f68f8c91f7c50372cdf4381",
        "id": "y7VNY-QpvVIz"
      },
      "source": [
        "## **2. Load Data**"
      ]
    },
    {
      "cell_type": "code",
      "execution_count": 3,
      "metadata": {
        "_uuid": "4c593c17588723c0b0b0f19851cb70a8447ced76",
        "colab": {
          "base_uri": "https://localhost:8080/",
          "height": 381
        },
        "id": "E2Fe9MYxvVI0",
        "outputId": "01d49b6d-d3fb-4033-bedc-70f00f20b450",
        "scrolled": true,
        "trusted": true
      },
      "outputs": [
        {
          "name": "stdout",
          "output_type": "stream",
          "text": [
            "(50000, 2)\n"
          ]
        },
        {
          "data": {
            "text/html": [
              "<div>\n",
              "<style scoped>\n",
              "    .dataframe tbody tr th:only-of-type {\n",
              "        vertical-align: middle;\n",
              "    }\n",
              "\n",
              "    .dataframe tbody tr th {\n",
              "        vertical-align: top;\n",
              "    }\n",
              "\n",
              "    .dataframe thead th {\n",
              "        text-align: right;\n",
              "    }\n",
              "</style>\n",
              "<table border=\"1\" class=\"dataframe\">\n",
              "  <thead>\n",
              "    <tr style=\"text-align: right;\">\n",
              "      <th></th>\n",
              "      <th>review</th>\n",
              "      <th>sentiment</th>\n",
              "    </tr>\n",
              "  </thead>\n",
              "  <tbody>\n",
              "    <tr>\n",
              "      <th>0</th>\n",
              "      <td>My family and I normally do not watch local mo...</td>\n",
              "      <td>1</td>\n",
              "    </tr>\n",
              "    <tr>\n",
              "      <th>1</th>\n",
              "      <td>Believe it or not, this was at one time the wo...</td>\n",
              "      <td>0</td>\n",
              "    </tr>\n",
              "    <tr>\n",
              "      <th>2</th>\n",
              "      <td>After some internet surfing, I found the \"Home...</td>\n",
              "      <td>0</td>\n",
              "    </tr>\n",
              "    <tr>\n",
              "      <th>3</th>\n",
              "      <td>One of the most unheralded great works of anim...</td>\n",
              "      <td>1</td>\n",
              "    </tr>\n",
              "    <tr>\n",
              "      <th>4</th>\n",
              "      <td>It was the Sixties, and anyone with long hair ...</td>\n",
              "      <td>0</td>\n",
              "    </tr>\n",
              "    <tr>\n",
              "      <th>5</th>\n",
              "      <td>For my humanities quarter project for school, ...</td>\n",
              "      <td>1</td>\n",
              "    </tr>\n",
              "    <tr>\n",
              "      <th>6</th>\n",
              "      <td>Arguebly Al Pacino's best role. He plays Tony ...</td>\n",
              "      <td>1</td>\n",
              "    </tr>\n",
              "    <tr>\n",
              "      <th>7</th>\n",
              "      <td>Being a big fan of Stanley Kubrick's Clockwork...</td>\n",
              "      <td>1</td>\n",
              "    </tr>\n",
              "    <tr>\n",
              "      <th>8</th>\n",
              "      <td>I reached the end of this and I was almost sho...</td>\n",
              "      <td>1</td>\n",
              "    </tr>\n",
              "    <tr>\n",
              "      <th>9</th>\n",
              "      <td>There is no doubt that Halloween is by far one...</td>\n",
              "      <td>1</td>\n",
              "    </tr>\n",
              "  </tbody>\n",
              "</table>\n",
              "</div>"
            ],
            "text/plain": [
              "                                              review  sentiment\n",
              "0  My family and I normally do not watch local mo...          1\n",
              "1  Believe it or not, this was at one time the wo...          0\n",
              "2  After some internet surfing, I found the \"Home...          0\n",
              "3  One of the most unheralded great works of anim...          1\n",
              "4  It was the Sixties, and anyone with long hair ...          0\n",
              "5  For my humanities quarter project for school, ...          1\n",
              "6  Arguebly Al Pacino's best role. He plays Tony ...          1\n",
              "7  Being a big fan of Stanley Kubrick's Clockwork...          1\n",
              "8  I reached the end of this and I was almost sho...          1\n",
              "9  There is no doubt that Halloween is by far one...          1"
            ]
          },
          "execution_count": 3,
          "metadata": {},
          "output_type": "execute_result"
        }
      ],
      "source": [
        "#importing the training data\n",
        "imdb_data = pd.read_csv('../dataset/IMDb_Reviews.csv')\n",
        "print(imdb_data.shape)\n",
        "imdb_data.head(10)"
      ]
    },
    {
      "cell_type": "code",
      "execution_count": 4,
      "metadata": {
        "colab": {
          "base_uri": "https://localhost:8080/"
        },
        "id": "Pf41-6h9rPuF",
        "outputId": "8308c9aa-9a99-46fd-f577-75ef09d204ea"
      },
      "outputs": [
        {
          "name": "stdout",
          "output_type": "stream",
          "text": [
            "<class 'pandas.core.frame.DataFrame'>\n",
            "RangeIndex: 50000 entries, 0 to 49999\n",
            "Data columns (total 2 columns):\n",
            " #   Column     Non-Null Count  Dtype \n",
            "---  ------     --------------  ----- \n",
            " 0   review     50000 non-null  object\n",
            " 1   sentiment  50000 non-null  int64 \n",
            "dtypes: int64(1), object(1)\n",
            "memory usage: 781.4+ KB\n"
          ]
        }
      ],
      "source": [
        "imdb_data.info()"
      ]
    },
    {
      "cell_type": "markdown",
      "metadata": {
        "id": "eqfShzJMae9f"
      },
      "source": [
        "## **3. Exploratory Data Analysis (EDA) & Pre-Processing**"
      ]
    },
    {
      "cell_type": "markdown",
      "metadata": {
        "id": "EJFf9tvSltyU"
      },
      "source": [
        "### **3.1. Null & Duplicate Values checked**"
      ]
    },
    {
      "cell_type": "code",
      "execution_count": 5,
      "metadata": {
        "colab": {
          "base_uri": "https://localhost:8080/"
        },
        "id": "pK5VmbQt5kFM",
        "outputId": "d5626a21-ceae-459c-9555-5c9cb29daea1"
      },
      "outputs": [
        {
          "name": "stdout",
          "output_type": "stream",
          "text": [
            "\n",
            "Null values in each column:\n",
            " review       0\n",
            "sentiment    0\n",
            "dtype: int64\n",
            "\n",
            "Number of duplicate rows: 418\n"
          ]
        }
      ],
      "source": [
        "# Check for null values in the dataset\n",
        "null_values = imdb_data.isnull().sum()\n",
        "print(\"\\nNull values in each column:\\n\", null_values)\n",
        "\n",
        "# Check for duplicate rows in the dataset\n",
        "duplicate_rows = imdb_data.duplicated().sum()\n",
        "print(\"\\nNumber of duplicate rows:\", duplicate_rows)\n"
      ]
    },
    {
      "cell_type": "markdown",
      "metadata": {
        "id": "nzzX0NRal6nJ"
      },
      "source": [
        "\n",
        "**Explanation**  \n",
        "The current version is the result of several iterations. Not removing duplicates can improve model performance, likely because repeated data can provide additional useful information for the model to understand existing patterns. Additionally, duplicates may reflect variations in relevant contexts, helping the model become more robust. You can try this approach independently and iterate multiple times to observe the results.\n"
      ]
    },
    {
      "cell_type": "markdown",
      "metadata": {
        "id": "kVW4wmB6oKI0"
      },
      "source": [
        "### **3.2. Features Engineering**"
      ]
    },
    {
      "cell_type": "markdown",
      "metadata": {
        "id": "XgbPZZqFq9GA"
      },
      "source": [
        "#### **3.2.1. review_length**"
      ]
    },
    {
      "cell_type": "code",
      "execution_count": 6,
      "metadata": {
        "colab": {
          "base_uri": "https://localhost:8080/",
          "height": 206
        },
        "id": "R19La3yvoIqi",
        "outputId": "86850163-ee0b-4883-bd56-c0cb842afdff"
      },
      "outputs": [
        {
          "data": {
            "text/html": [
              "<div>\n",
              "<style scoped>\n",
              "    .dataframe tbody tr th:only-of-type {\n",
              "        vertical-align: middle;\n",
              "    }\n",
              "\n",
              "    .dataframe tbody tr th {\n",
              "        vertical-align: top;\n",
              "    }\n",
              "\n",
              "    .dataframe thead th {\n",
              "        text-align: right;\n",
              "    }\n",
              "</style>\n",
              "<table border=\"1\" class=\"dataframe\">\n",
              "  <thead>\n",
              "    <tr style=\"text-align: right;\">\n",
              "      <th></th>\n",
              "      <th>review</th>\n",
              "      <th>sentiment</th>\n",
              "      <th>review_length</th>\n",
              "    </tr>\n",
              "  </thead>\n",
              "  <tbody>\n",
              "    <tr>\n",
              "      <th>0</th>\n",
              "      <td>My family and I normally do not watch local mo...</td>\n",
              "      <td>1</td>\n",
              "      <td>133</td>\n",
              "    </tr>\n",
              "    <tr>\n",
              "      <th>1</th>\n",
              "      <td>Believe it or not, this was at one time the wo...</td>\n",
              "      <td>0</td>\n",
              "      <td>53</td>\n",
              "    </tr>\n",
              "    <tr>\n",
              "      <th>2</th>\n",
              "      <td>After some internet surfing, I found the \"Home...</td>\n",
              "      <td>0</td>\n",
              "      <td>866</td>\n",
              "    </tr>\n",
              "    <tr>\n",
              "      <th>3</th>\n",
              "      <td>One of the most unheralded great works of anim...</td>\n",
              "      <td>1</td>\n",
              "      <td>66</td>\n",
              "    </tr>\n",
              "    <tr>\n",
              "      <th>4</th>\n",
              "      <td>It was the Sixties, and anyone with long hair ...</td>\n",
              "      <td>0</td>\n",
              "      <td>601</td>\n",
              "    </tr>\n",
              "  </tbody>\n",
              "</table>\n",
              "</div>"
            ],
            "text/plain": [
              "                                              review  sentiment  review_length\n",
              "0  My family and I normally do not watch local mo...          1            133\n",
              "1  Believe it or not, this was at one time the wo...          0             53\n",
              "2  After some internet surfing, I found the \"Home...          0            866\n",
              "3  One of the most unheralded great works of anim...          1             66\n",
              "4  It was the Sixties, and anyone with long hair ...          0            601"
            ]
          },
          "execution_count": 6,
          "metadata": {},
          "output_type": "execute_result"
        }
      ],
      "source": [
        "# Calculate the length of the reviews and store it in a new column\n",
        "imdb_data['review_length'] = imdb_data['review'].apply(lambda x: len(x.split()))\n",
        "\n",
        "imdb_data.head(5)"
      ]
    },
    {
      "cell_type": "markdown",
      "metadata": {
        "id": "9Zc-wGFsrH4a"
      },
      "source": [
        "#### **3.2.2. review_length Binned**"
      ]
    },
    {
      "cell_type": "code",
      "execution_count": 7,
      "metadata": {
        "colab": {
          "base_uri": "https://localhost:8080/"
        },
        "id": "bXyaU6Oirabn",
        "outputId": "b8614f06-135a-46be-aaca-590dea115d8f"
      },
      "outputs": [
        {
          "name": "stdout",
          "output_type": "stream",
          "text": [
            "Unique Review Lengths:\n",
            "[ 133   53  866 ... 1522   15 1277]\n"
          ]
        }
      ],
      "source": [
        "# View unique values in the 'review_length' column\n",
        "unique_lengths = imdb_data['review_length'].unique()\n",
        "print(\"Unique Review Lengths:\")\n",
        "print(unique_lengths)"
      ]
    },
    {
      "cell_type": "code",
      "execution_count": 8,
      "metadata": {
        "colab": {
          "base_uri": "https://localhost:8080/"
        },
        "id": "SFkqVhIAs_HB",
        "outputId": "3b0022d3-00b5-44ec-b3aa-898668178d62"
      },
      "outputs": [
        {
          "name": "stdout",
          "output_type": "stream",
          "text": [
            "   review_length review_length_binned\n",
            "0            133               Medium\n",
            "1             53                Short\n",
            "2            866                 Long\n",
            "3             66                Short\n",
            "4            601                 Long\n"
          ]
        }
      ],
      "source": [
        "# Defining binning boundaries\n",
        "bins = [0, 100, 500, 1000, 1500, float('inf')]\n",
        "labels = ['Short', 'Medium', 'Long', 'Very Long', 'Extreme']\n",
        "\n",
        "# Creating a new column based on binning\n",
        "imdb_data['review_length_binned'] = pd.cut(imdb_data['review_length'], bins=bins, labels=labels, right=True)\n",
        "\n",
        "# Displaying top data to view the new column\n",
        "print(imdb_data[['review_length', 'review_length_binned']].head(5))\n"
      ]
    },
    {
      "cell_type": "markdown",
      "metadata": {
        "id": "ltOH1JOWbcHL"
      },
      "source": [
        "### **3.3. Check Class Distribution**\n"
      ]
    },
    {
      "cell_type": "code",
      "execution_count": 9,
      "metadata": {
        "colab": {
          "base_uri": "https://localhost:8080/",
          "height": 401
        },
        "id": "pw8WtAO0bcfW",
        "outputId": "3ab55c35-2d4d-4ba1-cdfa-0dfb8e8d2311"
      },
      "outputs": [
        {
          "data": {
            "image/png": "[encoded data removed]",
            "text/plain": [
              "<Figure size 600x400 with 1 Axes>"
            ]
          },
          "metadata": {},
          "output_type": "display_data"
        }
      ],
      "source": [
        "# Create count plot\n",
        "plt.figure(figsize=(6, 4))  # Set figure size\n",
        "ax = sns.countplot(x='sentiment', data=imdb_data, palette=['#1f77b4', '#17becf'])\n",
        "\n",
        "# Add title\n",
        "plt.title('Sentiment Class Distribution', fontsize=13, weight='bold', ha='center', pad=20)\n",
        "\n",
        "# Add counts above the bars\n",
        "for p in ax.patches:\n",
        "    ax.annotate(f'{int(p.get_height())}', (p.get_x() + p.get_width() / 2., p.get_height()),\n",
        "                ha='center', va='bottom', fontsize=10)\n",
        "\n",
        "# Remove gridlines and figure border\n",
        "plt.grid(False)\n",
        "sns.despine()  # Remove figure border lines\n",
        "\n",
        "# Set x-axis labels\n",
        "ax.set_xticklabels(['Negative', 'Positive'], ha='center')\n",
        "\n",
        "# Adjust y-axis settings\n",
        "ax.tick_params(axis='y', labelsize=10)\n",
        "\n",
        "# Display plot\n",
        "plt.tight_layout()\n",
        "plt.show()\n"
      ]
    },
    {
      "cell_type": "markdown",
      "metadata": {
        "id": "6SZc-ayojmPe"
      },
      "source": [
        "**Explanation**\n",
        "\n",
        "The positive and negative classes are balanced.\n",
        "\n"
      ]
    },
    {
      "cell_type": "markdown",
      "metadata": {
        "id": "88wp2iBbjjIG"
      },
      "source": [
        "### **3.4. Check Review Length Distribution**\n"
      ]
    },
    {
      "cell_type": "code",
      "execution_count": 10,
      "metadata": {
        "colab": {
          "base_uri": "https://localhost:8080/",
          "height": 500
        },
        "id": "XO9NJgKjkHIs",
        "outputId": "8e971082-ff3e-42c5-b248-d24113dc4f85"
      },
      "outputs": [
        {
          "data": {
            "image/png": "[encoded data removed]",
            "text/plain": [
              "<Figure size 800x500 with 1 Axes>"
            ]
          },
          "metadata": {},
          "output_type": "display_data"
        }
      ],
      "source": [
        "# Set style\n",
        "sns.set(style='whitegrid')\n",
        "\n",
        "# Add review length column\n",
        "imdb_data['review_length'] = imdb_data['review'].apply(lambda x: len(x.split()))\n",
        "\n",
        "# Create review length distribution plot\n",
        "plt.figure(figsize=(8, 5))  # Set figure size\n",
        "ax = sns.histplot(imdb_data['review_length'], bins=30, color='#1f77b4')  # Using blue color\n",
        "\n",
        "# Add title with padding\n",
        "plt.title('Review Length Distribution', fontsize=13, weight='bold', ha='center', pad=20)  # Add padding\n",
        "\n",
        "# Remove gridlines and figure border\n",
        "plt.grid(False)\n",
        "sns.despine()  # Remove figure border lines\n",
        "\n",
        "# Add axis labels\n",
        "plt.xlabel('Word Count', fontsize=10)  # x-axis label\n",
        "plt.ylabel('Frequency', fontsize=10)  # y-axis label\n",
        "\n",
        "# Adjust the size of y-axis tick labels\n",
        "ax.tick_params(axis='y', labelsize=10)  # Set size of y-axis labels\n",
        "\n",
        "# Display plot\n",
        "plt.tight_layout()\n",
        "plt.show()\n"
      ]
    },
    {
      "cell_type": "markdown",
      "metadata": {
        "id": "fZfaf20fqwT_"
      },
      "source": [
        "### **3.4. Correlation between Review Length and Sentiment**\n"
      ]
    },
    {
      "cell_type": "code",
      "execution_count": 11,
      "metadata": {
        "colab": {
          "base_uri": "https://localhost:8080/"
        },
        "id": "In2fwWRcumX1",
        "outputId": "07da5394-ca39-4c4d-abc4-48450ff9d18b"
      },
      "outputs": [
        {
          "name": "stdout",
          "output_type": "stream",
          "text": [
            "sentiment                     0          1\n",
            "review_length_binned                      \n",
            "Short                 45.597125  54.402875\n",
            "Medium                51.065639  48.934361\n",
            "Long                  46.113583  53.886417\n",
            "Very Long             45.070423  54.929577\n",
            "Extreme                9.090909  90.909091\n"
          ]
        }
      ],
      "source": [
        "# Create a contingency DataFrame to count the frequency of review length categories and sentiment\n",
        "contingency_table = pd.crosstab(imdb_data['review_length_binned'], imdb_data['sentiment'])\n",
        "\n",
        "# Calculate percentages\n",
        "contingency_table_percentage = contingency_table.div(contingency_table.sum(axis=1), axis=0) * 100\n",
        "\n",
        "# Display the percentage table\n",
        "print(contingency_table_percentage)\n"
      ]
    },
    {
      "cell_type": "code",
      "execution_count": 12,
      "metadata": {
        "colab": {
          "base_uri": "https://localhost:8080/",
          "height": 500
        },
        "id": "sDbeMhlLtwdD",
        "outputId": "2b22bbfb-d31c-49bc-fc72-ed6bdfca8041"
      },
      "outputs": [
        {
          "data": {
            "image/png": "[encoded data removed]",
            "text/plain": [
              "<Figure size 800x500 with 2 Axes>"
            ]
          },
          "metadata": {},
          "output_type": "display_data"
        }
      ],
      "source": [
        "# Create a contingency DataFrame to count the frequency of review length categories and sentiment\n",
        "contingency_table = pd.crosstab(imdb_data['review_length_binned'], imdb_data['sentiment'])\n",
        "\n",
        "# Calculate percentages\n",
        "contingency_table_percentage = contingency_table.div(contingency_table.sum(axis=1), axis=0)\n",
        "\n",
        "# Create a heatmap plot\n",
        "plt.figure(figsize=(8, 5))  # Set the figure size\n",
        "ax = sns.heatmap(contingency_table_percentage, annot=True, fmt=\".2%\", cmap='Blues', cbar=True)\n",
        "\n",
        "# Add a title\n",
        "plt.title('Correlation between Review Length and Sentiment', fontsize=13, weight='bold', ha='center', pad=20)\n",
        "\n",
        "# Set axis labels\n",
        "ax.set_xlabel('Sentiment (0: Negative, 1: Positive)', fontsize=10)\n",
        "ax.set_ylabel('')\n",
        "\n",
        "# Display the plot\n",
        "plt.tight_layout()\n",
        "plt.show()\n"
      ]
    },
    {
      "cell_type": "markdown",
      "metadata": {
        "id": "ZA_QSQATu8GJ"
      },
      "source": [
        "\n",
        "**Explanation**\n",
        "- **Positive Sentiment Dominates:** In general, the longer the review, the greater the likelihood of providing a positive rating, especially for extreme reviews.\n",
        "- **Short Reviews Are Less Favorable:** Although short reviews tend to be positive, their proportion is not as high as that of long and extreme reviews. This may indicate that short reviews might be less informative.\n",
        "- **Relevance of Review Length:** The length of the review appears to be positively correlated with the sentiment given. Users may feel more capable of expressing their positive opinions in longer reviews."
      ]
    },
    {
      "cell_type": "markdown",
      "metadata": {
        "id": "Gk3BrRJAwZ29"
      },
      "source": [
        "**Theory**\n",
        "\n",
        "To examine whether there is a significant relationship between `sentiment` and `review_length`, we can perform a statistical test. Since `sentiment` is a categorical variable (0 and 1), and `review_length` is a numerical variable, we can use a *t-test* for two independent samples. The following are the steps we will take:\n",
        "\n",
        "**Hypotheses**\n",
        "- **H0 (Null Hypothesis)**: There is no difference in the average review length between positive and negative sentiments (mean length of reviews with positive sentiment = mean length of reviews with negative sentiment).\n",
        "- **H1 (Alternative Hypothesis)**: There is a difference in the average review length between positive and negative sentiments (mean length of reviews with positive sentiment ≠ mean length of reviews with negative sentiment)."
      ]
    },
    {
      "cell_type": "code",
      "execution_count": 13,
      "metadata": {
        "colab": {
          "base_uri": "https://localhost:8080/"
        },
        "id": "sVCTuTUMwtCs",
        "outputId": "609b5402-3766-4304-bffc-1e8926c7a2d3"
      },
      "outputs": [
        {
          "name": "stdout",
          "output_type": "stream",
          "text": [
            "Average review length (Positive): 232.84932\n",
            "Average review length (Negative): 229.46456\n",
            "T-statistic: 2.208670012690372\n",
            "P-value: 0.027202120447486624\n",
            "Reject H0: There is a significant difference between the lengths of positive and negative reviews.\n"
          ]
        }
      ],
      "source": [
        "from scipy import stats\n",
        "\n",
        "# Separating review lengths based on sentiment\n",
        "length_positive = imdb_data[imdb_data['sentiment'] == 1]['review_length']\n",
        "length_negative = imdb_data[imdb_data['sentiment'] == 0]['review_length']\n",
        "\n",
        "# Calculating the average review length for each category\n",
        "mean_positive = length_positive.mean()\n",
        "mean_negative = length_negative.mean()\n",
        "\n",
        "# Performing t-test\n",
        "t_stat, p_value = stats.ttest_ind(length_positive, length_negative)\n",
        "\n",
        "# Displaying results\n",
        "print(\"Average review length (Positive):\", mean_positive)\n",
        "print(\"Average review length (Negative):\", mean_negative)\n",
        "print(\"T-statistic:\", t_stat)\n",
        "print(\"P-value:\", p_value)\n",
        "\n",
        "# Determining significance\n",
        "alpha = 0.05\n",
        "if p_value < alpha:\n",
        "    print(\"Reject H0: There is a significant difference between the lengths of positive and negative reviews.\")\n",
        "else:\n",
        "    print(\"Fail to reject H0: There is no significant difference between the lengths of positive and negative reviews.\")\n"
      ]
    },
    {
      "cell_type": "markdown",
      "metadata": {
        "id": "Sc49WWOcwtcS"
      },
      "source": [
        "After conducting the statistical test, we can calculate the effect size to measure the magnitude of the impact of the average difference. One way to calculate the effect size is by using Cohen's d.\n",
        "\n",
        "**Interpretation of Cohen's d:**\n",
        "- **Small** (d = 0.2): Small effect\n",
        "- **Medium** (d = 0.5): Medium effect\n",
        "- **Large** (d = 0.8): Large effect\n",
        "\n",
        "By calculating this effect size, we can gain a clearer understanding of how strong the relationship is between review length and sentiment. This is important because the statistical test results may indicate a significant difference, but the effect size will help us understand whether that difference is practically meaningful, not just statistically significant."
      ]
    },
    {
      "cell_type": "code",
      "execution_count": 14,
      "metadata": {
        "colab": {
          "base_uri": "https://localhost:8080/"
        },
        "id": "Bt4umFzXwvpM",
        "outputId": "ff7eff8f-0be6-47ef-ec23-e7641311425b"
      },
      "outputs": [
        {
          "name": "stdout",
          "output_type": "stream",
          "text": [
            "Cohen's d: 0.01975494515296398\n"
          ]
        }
      ],
      "source": [
        "def cohen_d(x, y):\n",
        "    # Calculate Cohen's d\n",
        "    nx = len(x)\n",
        "    ny = len(y)\n",
        "    mean_diff = x.mean() - y.mean()\n",
        "    pooled_std = (((nx - 1) * x.std() ** 2 + (ny - 1) * y.std() ** 2) / (nx + ny - 2)) ** 0.5\n",
        "    return mean_diff / pooled_std\n",
        "\n",
        "# Calculate Cohen's d\n",
        "effect_size = cohen_d(length_positive, length_negative)\n",
        "print(\"Cohen's d:\", effect_size)  # Display Cohen's d value\n"
      ]
    },
    {
      "cell_type": "markdown",
      "metadata": {
        "_uuid": "90da29c3b79f46f41d7391a2a116065b616d0fac",
        "id": "rO7x6i97vVI3"
      },
      "source": [
        "###**3.5. Text normalization**"
      ]
    },
    {
      "cell_type": "code",
      "execution_count": 15,
      "metadata": {
        "_uuid": "f000c43d91f68f6668539f089c6a54c5ce3bd819",
        "colab": {
          "base_uri": "https://localhost:8080/"
        },
        "id": "sHnhtME8vVI4",
        "outputId": "bd48f33f-38c3-43f4-dd20-e872a3af88ec",
        "trusted": true
      },
      "outputs": [
        {
          "name": "stderr",
          "output_type": "stream",
          "text": [
            "[nltk_data] Downloading package stopwords to\n",
            "[nltk_data]     C:\\Users\\Admin\\AppData\\Roaming\\nltk_data...\n",
            "[nltk_data]   Package stopwords is already up-to-date!\n"
          ]
        }
      ],
      "source": [
        "import nltk\n",
        "nltk.download('stopwords')\n",
        "\n",
        "#Tokenization of text\n",
        "tokenizer = ToktokTokenizer()\n",
        "\n",
        "#Setting English stopwords\n",
        "stopword_list = nltk.corpus.stopwords.words('english')"
      ]
    },
    {
      "cell_type": "markdown",
      "metadata": {
        "id": "STRC14o0fQB8"
      },
      "source": [
        "**Explanation**\n",
        "\n",
        "1. **Importing NLTK and Downloading Stopwords:** This code imports the Natural Language Toolkit (NLTK) library used for natural language processing tasks. It then downloads the list of stopwords in English, which are common words (such as \"and,\" \"that,\" \"is\") that are typically removed from text during processing because they do not carry significant meaning.\n",
        "\n",
        "2. **Text Tokenization:** A tokenizer named `ToktokTokenizer` is created. Tokenization is the process of breaking down text into smaller units, such as words or phrases, which makes analysis easier.\n",
        "\n",
        "3. **Defining English Stopwords:** This code sets up the list of stopwords in English using the NLTK library so that the model can ignore these common words during text analysis."
      ]
    },
    {
      "cell_type": "markdown",
      "metadata": {
        "_uuid": "328b6e5977da3e055ad4b2e11a31e5e12ccf3b16",
        "id": "wi7rQDiHvVI4"
      },
      "source": [
        "### **3.6. Removing html strips and noise text**"
      ]
    },
    {
      "cell_type": "code",
      "execution_count": 16,
      "metadata": {
        "_uuid": "6f6fcafbdadcdcb0c164e37d71fb9d1623f74d0a",
        "id": "9pZZYAaXvVI4",
        "trusted": true
      },
      "outputs": [],
      "source": [
        "#Removing the html strips\n",
        "def strip_html(text):\n",
        "    soup = BeautifulSoup(text, \"html.parser\")\n",
        "    return soup.get_text()\n",
        "\n",
        "#Removing the square brackets\n",
        "def remove_between_square_brackets(text):\n",
        "    return re.sub('\\[[^]]*\\]', '', text)\n",
        "\n",
        "#Removing the noisy text\n",
        "def denoise_text(text):\n",
        "    text = strip_html(text)\n",
        "    text = remove_between_square_brackets(text)\n",
        "    return text\n",
        "\n",
        "#Apply function on review column\n",
        "imdb_data['review']=imdb_data['review'].apply(denoise_text)"
      ]
    },
    {
      "cell_type": "markdown",
      "metadata": {
        "id": "5MUeqCgQgrid"
      },
      "source": [
        "**Explanation**:\n",
        "1. **Removing HTML Strips:** The function `strip_html(text)` uses BeautifulSoup to parse the HTML content from the given text and extracts only the text without the HTML tags. This is useful for cleaning reviews that may contain HTML formatting.\n",
        "\n",
        "2. **Removing Text Within Square Brackets:** The function `remove_between_square_brackets(text)` utilizes a regular expression to find and remove any text that appears within square brackets (e.g., \"[[^]]*\\]\") from the input text. This helps eliminate irrelevant or noisy information.\n",
        "\n",
        "3. **Removing Noisy Text:** The function `denoise_text(text)` combines the two previous functions. First, it removes HTML tags from the text, and then it eliminates text that is enclosed in square brackets. The result is cleaner and more readable text."
      ]
    },
    {
      "cell_type": "markdown",
      "metadata": {
        "_uuid": "88117b74761d1047924d6d70f76642faa0e706ac",
        "id": "LgX5Qs_OvVI5"
      },
      "source": [
        "### **3.7.Removing special characters**"
      ]
    },
    {
      "cell_type": "code",
      "execution_count": 17,
      "metadata": {
        "_uuid": "219da72b025121fd98081df50ae0fcaace10cc9d",
        "id": "pDNZUB9TvVI5",
        "trusted": true
      },
      "outputs": [],
      "source": [
        "#Define function for removing special characters\n",
        "def remove_special_characters(text, remove_digits=True):\n",
        "    pattern=r'[^a-zA-z0-9\\s]'\n",
        "    text=re.sub(pattern,'',text)\n",
        "    return text\n",
        "\n",
        "#Apply function on review column\n",
        "imdb_data['review']=imdb_data['review'].apply(remove_special_characters)"
      ]
    },
    {
      "cell_type": "markdown",
      "metadata": {
        "id": "5pQkRq6lhWPl"
      },
      "source": [
        "**Explanation**:\n",
        "1. **Defining a Function to Remove Special Characters:** The function `remove_special_characters(text, remove_digits=True)` is designed to remove special characters from the input text. This function uses a regular expression pattern (`r'[^a-zA-Z0-9\\s]'`) that matches everything that is not a letter (both uppercase and lowercase), a number, or a space.\n",
        "\n",
        "2. **Removing Special Characters:** The method `re.sub(pattern, '', text)` is then used to replace all matches of the pattern in the text with an empty string, effectively removing those characters.\n",
        "\n",
        "3. **Applying the Function to the Review Column:** Finally, the function `remove_special_characters` is applied to the 'review' column of the `imdb_data` DataFrame. This processes each review, cleaning it of special characters, resulting in a more uniform and readable dataset."
      ]
    },
    {
      "cell_type": "markdown",
      "metadata": {
        "_uuid": "3b66eeabd5b7b8c251f8b8ddf331140a64bcd514",
        "id": "GG57LD7OvVI5"
      },
      "source": [
        "### **3.8. Text stemming**"
      ]
    },
    {
      "cell_type": "code",
      "execution_count": 19,
      "metadata": {
        "_uuid": "2295f2946e0ab74c220ad538d0e7adc04d23f697",
        "id": "huGcbI6svVI5",
        "trusted": true
      },
      "outputs": [],
      "source": [
        "#Stemming the text\n",
        "def simple_stemmer(text):\n",
        "    ps=nltk.porter.PorterStemmer()\n",
        "    text= ' '.join([ps.stem(word) for word in text.split()])\n",
        "    return text\n",
        "\n",
        "#Apply function on review column\n",
        "imdb_data['review']=imdb_data['review'].apply(simple_stemmer)"
      ]
    },
    {
      "cell_type": "markdown",
      "metadata": {
        "id": "CcBU088Nh_DQ"
      },
      "source": [
        "**Explanation**:\n",
        "1. **Defining a Stemming Function:** The function `simple_stemmer(text)` is created to perform stemming on the input text. Stemming is the process of reducing words to their base or root form. In this case, the function uses the **Porter Stemmer** from the NLTK library.\n",
        "\n",
        "2. **Performing Stemming on Words:** Inside the function, the text is split into individual words, and each word is processed using the `stem()` method of the Porter Stemmer. The stemmed words are then concatenated back into a single string.\n",
        "\n",
        "3. **Applying the Function to the Review Column:** Finally, the `simple_stemmer` function is applied to the 'review' column of the `imdb_data` DataFrame. This processes each review, reducing the words to their base forms, which helps in standardizing the text for further analysis."
      ]
    },
    {
      "cell_type": "markdown",
      "metadata": {
        "_uuid": "e83107e4a281d84d7ae42b4e2c8d81b7ece438e4",
        "id": "Mv7me2oDvVI5"
      },
      "source": [
        "### **3.9. Removing stopwords**"
      ]
    },
    {
      "cell_type": "code",
      "execution_count": null,
      "metadata": {
        "_uuid": "5dbff82b4d2d188d8777b273a75d8ac714d38885",
        "id": "-QBPO7c3vVI6",
        "trusted": true
      },
      "outputs": [],
      "source": [
        "#set stopwords to english\n",
        "# stop=set(stopwords.words('english'))\n",
        "# print(stop)\n",
        "\n",
        "#removing the stopwords\n",
        "# def remove_stopwords(text, is_lower_case=False):\n",
        "   # tokens = tokenizer.tokenize(text)\n",
        "   # tokens = [token.strip() for token in tokens]\n",
        "   # if is_lower_case:\n",
        "      #  filtered_tokens = [token for token in tokens if token not in stopword_list]\n",
        "    # else:\n",
        "      #  filtered_tokens = [token for token in tokens if token.lower() not in stopword_list]\n",
        "    # filtered_text = ' '.join(filtered_tokens)\n",
        "    # return filtered_text\n",
        "\n",
        "#Apply function on review column\n",
        "# imdb_data['review']=imdb_data['review'].apply(remove_stopwords)"
      ]
    },
    {
      "cell_type": "markdown",
      "metadata": {
        "id": "2YDrUga484RK"
      },
      "source": [
        "### **3.10. Removed Features**"
      ]
    },
    {
      "cell_type": "code",
      "execution_count": null,
      "metadata": {
        "colab": {
          "base_uri": "https://localhost:8080/"
        },
        "id": "5QN9NpOK88iK",
        "outputId": "314fbb7b-0ee3-4e33-e110-77e3c7c297df"
      },
      "outputs": [
        {
          "name": "stdout",
          "output_type": "stream",
          "text": [
            "                                              review  sentiment\n",
            "0  my famili and i normal do not watch local movi...          1\n",
            "1  believ it or not thi wa at one time the worst ...          0\n",
            "2  after some internet surf i found the homefront...          0\n",
            "3  one of the most unherald great work of anim th...          1\n",
            "4  it wa the sixti and anyon with long hair and a...          0\n"
          ]
        }
      ],
      "source": [
        "# Dropping the 'review_length' and 'review_length_binned' columns\n",
        "imdb_data = imdb_data.drop(['review_length', 'review_length_binned'], axis=1)\n",
        "\n",
        "# Displaying the top few rows to verify\n",
        "print(imdb_data.head())\n"
      ]
    },
    {
      "cell_type": "markdown",
      "metadata": {
        "_uuid": "b35e7499291173119ed42287deac6f0cd96516e1",
        "id": "mHcx_8x3vVI6"
      },
      "source": [
        "### **3.11. Review Data Split**"
      ]
    },
    {
      "cell_type": "code",
      "execution_count": null,
      "metadata": {
        "colab": {
          "base_uri": "https://localhost:8080/"
        },
        "id": "gE68C7MB_CAR",
        "outputId": "0f32e254-a362-4818-9c52-307aa884d3dd"
      },
      "outputs": [
        {
          "name": "stdout",
          "output_type": "stream",
          "text": [
            "First training review:\n",
            "my famili and i normal do not watch local movi for the simpl reason that they are poorli made they lack the depth and just not worth our timeth trailer of nasaan ka man caught my attent my daughter in law and daughter so we took time out to watch it thi afternoon the movi exceed our expect the cinematographi wa veri good the stori beauti and the act awesom jericho rosal wa realli veri good so claudin barretto the fact that i despis diether ocampo prove he wa effect at hi role i have never been thi touch move and affect by a local movi befor imagin a cynic like me dab my eye at the end of the movi congratul to star cinema way to go jericho and claudin\n",
            "\n",
            "First testing review:\n",
            "alright if you want to go see thi movi just give me our money illkick you were it count and youll have the same amount of fun illeven guarante more fun thi movi onc again show what happen whenyou cant get ani one els to hire your famili and your forc to makeyour own movi same im go through puberti humor joke justdumb and grosser thi movi is realli a disgrac to movi goer theytri to shock you into laugh becaus you cant believ the level theyhav to stoop to make you laugh so my offer abov stand as\n",
            "\n",
            "Train Sentiments Shape: (35000,)\n",
            "Test Sentiments Shape: (15000,)\n"
          ]
        }
      ],
      "source": [
        "from sklearn.model_selection import train_test_split\n",
        "\n",
        "# Taking 70% of the data for training\n",
        "train_size = int(0.7 * len(imdb_data))\n",
        "\n",
        "# Splitting data into training and testing sets\n",
        "norm_train_reviews = imdb_data.review[:train_size]\n",
        "norm_test_reviews = imdb_data.review[train_size:]\n",
        "train_sentiments = imdb_data.sentiment[:train_size]\n",
        "test_sentiments = imdb_data.sentiment[train_size:]\n",
        "\n",
        "# Combining into X_train, X_test, y_train, y_test\n",
        "X_train = norm_train_reviews\n",
        "X_test = norm_test_reviews\n",
        "y_train = train_sentiments\n",
        "y_test = test_sentiments\n",
        "\n",
        "# Example print to check results\n",
        "print(f\"First training review:\\n{X_train.iloc[0]}\\n\")\n",
        "print(f\"First testing review:\\n{X_test.iloc[0]}\\n\")\n",
        "print(\"Train Sentiments Shape:\", y_train.shape)\n",
        "print(\"Test Sentiments Shape:\", y_test.shape)\n"
      ]
    },
    {
      "cell_type": "markdown",
      "metadata": {
        "id": "qE3L4L7U7hja"
      },
      "source": [
        "**Explanation**\n",
        "\n",
        "This code splits the **imdb_data** dataset of reviews into training data (70%) and testing data (30%) for a machine learning model. The steps taken are as follows:\n",
        "\n",
        "1. **Taking 70% of the data** for training by calculating the index boundary based on the total number of data points.\n",
        "2. **Splitting the review data** and sentiment (target) into training and testing sets. The `review` column is used as the feature (X), while the `sentiment` column is used as the label (y).\n",
        "3. **Storing the split results** in the variables `X_train`, `X_test`, `y_train`, and `y_test`.\n",
        "4. **Displaying a few examples** of the first review in both the training and testing data to verify the results of the split."
      ]
    },
    {
      "cell_type": "markdown",
      "metadata": {
        "_uuid": "1c2a872ffcb6b8076fdbbba641af12081b6022ef",
        "id": "O0WgT_jgvVI6"
      },
      "source": [
        "## **4. Bags of words model**\n",
        "\n"
      ]
    },
    {
      "cell_type": "code",
      "execution_count": null,
      "metadata": {
        "colab": {
          "base_uri": "https://localhost:8080/"
        },
        "id": "4pa82us_5ca2",
        "outputId": "cf0d5e09-2af0-47f3-fcc6-4b04a6a842a7"
      },
      "outputs": [
        {
          "name": "stdout",
          "output_type": "stream",
          "text": [
            "BOW_cv_train: (35000, 5415440)\n",
            "BOW_cv_test: (15000, 5415440)\n"
          ]
        }
      ],
      "source": [
        "# Count vectorizer for Bag of Words\n",
        "cv = CountVectorizer(min_df=1, max_df=1, binary=False, ngram_range=(1, 3))\n",
        "\n",
        "# Transforming training reviews\n",
        "cv_train_reviews = cv.fit_transform(norm_train_reviews)\n",
        "\n",
        "# Transforming testing reviews\n",
        "cv_test_reviews = cv.transform(norm_test_reviews)\n",
        "\n",
        "# Displaying the shape of the transformation results\n",
        "print('BOW_cv_train:', cv_train_reviews.shape)\n",
        "print('BOW_cv_test:', cv_test_reviews.shape)\n"
      ]
    },
    {
      "cell_type": "markdown",
      "metadata": {
        "id": "34f12pdqmqn2"
      },
      "source": [
        "**Explanation**:\n",
        "\n",
        "This code prepares text data for analysis by converting it into a format that can be understood by machine learning models:\n",
        "\n",
        "1. **Count Vectorizer for Bag of Words:** The code initializes the `CountVectorizer`, which transforms the text data into a bag-of-words (BoW) representation. This representation counts how many times each word (or combination of words) appears in the reviews. The settings used allow:\n",
        "   - Including words that appear at least once (`min_df=1`).\n",
        "   - Ignoring words that appear in all documents (`max_df=1`).\n",
        "   - Creating single words, word pairs, and word triplets as features (`ngram_range=(1,3)`).\n",
        "\n",
        "2. **Transforming Reviews:** The code then processes the training reviews (`norm_train_reviews`) to create a matrix (`cv_train_reviews`) that shows the count of each word/phrase. It also processes the testing reviews (`norm_test_reviews`) to create a separate matrix (`cv_test_reviews`).\n",
        "\n",
        "3. **Printing Shapes:** Finally, the code prints the dimensions of the training and testing matrices, showing how many reviews and unique words/phrases are included."
      ]
    },
    {
      "cell_type": "markdown",
      "metadata": {
        "_uuid": "52371868f05ff9cf157280c5acf0f5bc71ee176d",
        "id": "co80RjjnvVI7"
      },
      "source": [
        "## **5. Term Frequency-Inverse Document Frequency model (TFIDF)**\n",
        "\n"
      ]
    },
    {
      "cell_type": "code",
      "execution_count": null,
      "metadata": {
        "colab": {
          "base_uri": "https://localhost:8080/"
        },
        "id": "mrD1VI_t50dz",
        "outputId": "6e377676-b007-4070-83cb-aff04b0f74a4"
      },
      "outputs": [
        {
          "name": "stdout",
          "output_type": "stream",
          "text": [
            "Tfidf_train: (35000, 5415440)\n",
            "Tfidf_test: (15000, 5415440)\n"
          ]
        }
      ],
      "source": [
        "# Tfidf vectorizer\n",
        "tv = TfidfVectorizer(min_df=1, max_df=1, use_idf=True, ngram_range=(1,3))\n",
        "\n",
        "# Transform training reviews\n",
        "tv_train_reviews = tv.fit_transform(norm_train_reviews)\n",
        "\n",
        "# Transform testing reviews\n",
        "tv_test_reviews = tv.transform(norm_test_reviews)\n",
        "\n",
        "# Display the shape of the transformation results\n",
        "print('Tfidf_train:', tv_train_reviews.shape)\n",
        "print('Tfidf_test:', tv_test_reviews.shape)\n"
      ]
    },
    {
      "cell_type": "markdown",
      "metadata": {
        "id": "ahB3FoRuniqY"
      },
      "source": [
        "**Explanation**:\n",
        "\n",
        "This code uses the **TF-IDF Vectorizer** to convert text data into a numerical format that captures the importance of words in relation to the entire dataset:\n",
        "\n",
        "1. **Initializing the TF-IDF Vectorizer:** The `TfidfVectorizer` is set up to transform text into Term Frequency-Inverse Document Frequency (TF-IDF) representation. This approach helps reflect the importance of a word in a review relative to the entire dataset. The settings used allow for:\n",
        "   - Including words that appear at least once (`min_df=1`).\n",
        "   - Ignoring words that appear in all documents (`max_df=1`).\n",
        "   - Creating single words, word pairs, and word triplets as features (`ngram_range=(1,3)`).\n",
        "\n",
        "2. **Transforming Reviews:** This code processes the training reviews (`norm_train_reviews`) to create a matrix (`tv_train_reviews`) that represents the TF-IDF scores of each word/phrase. It also processes the testing reviews (`norm_test_reviews`) to create a separate matrix (`tv_test_reviews`).\n",
        "\n",
        "3. **Printing Shapes:** Finally, this code prints the dimensions of the training and testing matrices, indicating how many reviews and unique words/phrases are included in the TF-IDF representation."
      ]
    },
    {
      "cell_type": "markdown",
      "metadata": {
        "id": "1VgSIqCz-D1O"
      },
      "source": [
        "## **6. Labeling the sentiment text**\n"
      ]
    },
    {
      "cell_type": "code",
      "execution_count": null,
      "metadata": {
        "colab": {
          "base_uri": "https://localhost:8080/"
        },
        "id": "1T_bJONb91Pf",
        "outputId": "40473dee-a419-4e4a-9c5e-ebffe653db93"
      },
      "outputs": [
        {
          "name": "stdout",
          "output_type": "stream",
          "text": [
            "(50000, 1)\n"
          ]
        }
      ],
      "source": [
        "# Labeling the sentiment data\n",
        "lb = LabelBinarizer()\n",
        "\n",
        "# Transforming the sentiment data\n",
        "sentiment_data = lb.fit_transform(imdb_data['sentiment'])\n",
        "\n",
        "#M Displaying the shape of the transformed data\n",
        "print(sentiment_data.shape)\n"
      ]
    },
    {
      "cell_type": "markdown",
      "metadata": {
        "id": "lf2aA2uDnsG5"
      },
      "source": [
        "**Explanation**:\n",
        "\n",
        "This code uses **Label Binarizer** to convert sentiment labels in the dataset into a binary format:\n",
        "\n",
        "1. **Label Binarization:** `LabelBinarizer` is initialized to convert sentiment labels (which are typically categorical) into a numerical format. This means each unique sentiment (e.g., positive and negative) will be transformed into a binary vector. For example, positive might be represented as `[1]` and negative as `[0]`.\n",
        "\n",
        "2. **Transforming Sentiment Data:** This code applies the binarization process to the sentiment column of the `imdb_data` DataFrame. The result is stored in the `sentiment_data` variable, which now contains the sentiment labels converted into binary format.\n",
        "\n",
        "3. **Printing Shape:** Finally, this code prints the shape of the `sentiment_data` array, indicating how many sentiment labels have been processed."
      ]
    },
    {
      "cell_type": "markdown",
      "metadata": {
        "id": "fiOSEMZpcztM"
      },
      "source": [
        "### **6.1. Sentiment Data Split**"
      ]
    },
    {
      "cell_type": "code",
      "execution_count": null,
      "metadata": {
        "colab": {
          "base_uri": "https://localhost:8080/"
        },
        "id": "x8ZrKsgpckjX",
        "outputId": "d67e2dd4-e048-42ed-8ac8-5b6de35b6781"
      },
      "outputs": [
        {
          "name": "stdout",
          "output_type": "stream",
          "text": [
            "Train Sentiments:\n",
            " [[1]\n",
            " [0]\n",
            " [0]\n",
            " ...\n",
            " [1]\n",
            " [1]\n",
            " [0]]\n",
            "Test Sentiments:\n",
            " [[0]\n",
            " [1]\n",
            " [0]\n",
            " ...\n",
            " [0]\n",
            " [0]\n",
            " [1]]\n"
          ]
        }
      ],
      "source": [
        "# Splitting the sentiment data into 70% for training and 30% for testing\n",
        "train_sentiments = sentiment_data[:train_size]\n",
        "test_sentiments = sentiment_data[train_size:]\n",
        "\n",
        "# Displaying the split results\n",
        "print(\"Train Sentiments:\\n\", train_sentiments)\n",
        "print(\"Test Sentiments:\\n\", test_sentiments)\n"
      ]
    },
    {
      "cell_type": "markdown",
      "metadata": {
        "id": "qEmbVZtFnvvI"
      },
      "source": [
        "**Explanation**:\n",
        "\n",
        "This code splits the sentiment data into training and testing sets based on 70% for training and 30% for testing:\n",
        "\n",
        "1. **Splitting Sentiment Data:** The `sentiment_data`, which contains the binarized sentiment labels, is divided into two parts:\n",
        "   - `train_sentiments`: This variable stores the entries corresponding to 70% of the data, which will be used to train the model.\n",
        "   - `test_sentiments`: This variable stores the remaining entries (30% of the data), which will be used to test the model's performance.\n",
        "\n",
        "2. **Displaying the Split Results:** This code prints both `train_sentiments` and `test_sentiments` to visually confirm how the data has been split."
      ]
    },
    {
      "cell_type": "markdown",
      "metadata": {
        "id": "TEtaR2OHvVI8"
      },
      "source": [
        "## **7. Modelling**"
      ]
    },
    {
      "cell_type": "markdown",
      "metadata": {
        "_uuid": "d5e45fdc9d062a5b9b9dd665ffe732776e196953",
        "id": "0iFL11m0vVI8"
      },
      "source": [
        "### **7.1.** ***Logistic Regression***"
      ]
    },
    {
      "cell_type": "markdown",
      "metadata": {
        "id": "9JAGd3agfvnk"
      },
      "source": [
        "#### **7.1.1 Logistic regression model performane on train dataset**"
      ]
    },
    {
      "cell_type": "code",
      "execution_count": null,
      "metadata": {
        "colab": {
          "base_uri": "https://localhost:8080/"
        },
        "id": "DVy5kVcaDaUo",
        "outputId": "ec4b91e3-5517-4bbf-f28f-3f73d2d23d5b"
      },
      "outputs": [
        {
          "name": "stdout",
          "output_type": "stream",
          "text": [
            "LogisticRegression()\n",
            "LogisticRegression()\n"
          ]
        }
      ],
      "source": [
        "# Import the LogisticRegression class\n",
        "from sklearn.linear_model import LogisticRegression\n",
        "\n",
        "# Initialize the Logistic Regression model\n",
        "lr = LogisticRegression()\n",
        "\n",
        "# Training the Logistic Regression model for Bag of Words\n",
        "lr_bow = lr.fit(cv_train_reviews, train_sentiments)\n",
        "print(lr_bow)\n",
        "\n",
        "# Training the Logistic Regression model for TF-IDF features\n",
        "lr_tfidf = lr.fit(tv_train_reviews, train_sentiments)\n",
        "print(lr_tfidf)"
      ]
    },
    {
      "cell_type": "markdown",
      "metadata": {
        "_uuid": "07eb6d52eb32469e3be82e90af636d598a7b7c27",
        "id": "C5xi-EozvVI8"
      },
      "source": [
        "#### **7.1.2. Logistic regression model performane on test dataset**"
      ]
    },
    {
      "cell_type": "code",
      "execution_count": null,
      "metadata": {
        "_uuid": "52ad86935b76117f97b79e6672a3ba12352b9461",
        "colab": {
          "base_uri": "https://localhost:8080/"
        },
        "id": "7tiPYPpJvVI8",
        "outputId": "23ed8e60-659b-4ec3-d31c-a9538386a56e",
        "trusted": true
      },
      "outputs": [
        {
          "name": "stdout",
          "output_type": "stream",
          "text": [
            "[0 1 1 ... 1 1 1]\n",
            "[0 1 1 ... 1 1 1]\n"
          ]
        }
      ],
      "source": [
        "#Predicting the model for bag of words\n",
        "lr_bow_predict=lr.predict(cv_test_reviews)\n",
        "print(lr_bow_predict)\n",
        "\n",
        "##Predicting the model for tfidf features\n",
        "lr_tfidf_predict=lr.predict(tv_test_reviews)\n",
        "print(lr_tfidf_predict)"
      ]
    },
    {
      "cell_type": "markdown",
      "metadata": {
        "id": "HJDhDDQZvVI8"
      },
      "source": [
        "#### **7.1.3. Accuracy of the model**"
      ]
    },
    {
      "cell_type": "code",
      "execution_count": null,
      "metadata": {
        "colab": {
          "base_uri": "https://localhost:8080/"
        },
        "id": "l30t64pTu3ul",
        "outputId": "02d86d6c-21a3-473e-c75f-a004242c9d77"
      },
      "outputs": [
        {
          "name": "stdout",
          "output_type": "stream",
          "text": [
            "lr_bow_train_score : 0.9927142857142857\n",
            "lr_bow_test_score : 0.7570666666666667\n",
            "lr_tfidf_train_score : 0.9927142857142857\n",
            "lr_tfidf_test_score : 0.7571333333333333\n"
          ]
        }
      ],
      "source": [
        "# Predicting the model for bag of words on training data\n",
        "lr_bow_train_predict = lr.predict(cv_train_reviews)\n",
        "\n",
        "# Predicting the model for tfidf features on training data\n",
        "lr_tfidf_train_predict = lr.predict(tv_train_reviews)\n",
        "\n",
        "# Accuracy score for bag of words on training data\n",
        "lr_bow_train_score = accuracy_score(train_sentiments, lr_bow_train_predict)\n",
        "print(\"lr_bow_train_score :\", lr_bow_train_score)\n",
        "\n",
        "# Accuracy score for bag of words on test data\n",
        "lr_bow_test_score = accuracy_score(test_sentiments, lr_bow_predict)\n",
        "print(\"lr_bow_test_score :\", lr_bow_test_score)\n",
        "\n",
        "# Accuracy score for tfidf features on training data\n",
        "lr_tfidf_train_score = accuracy_score(train_sentiments, lr_tfidf_train_predict)\n",
        "print(\"lr_tfidf_train_score :\", lr_tfidf_train_score)\n",
        "\n",
        "# Accuracy score for tfidf features on test data\n",
        "lr_tfidf_test_score = accuracy_score(test_sentiments, lr_tfidf_predict)\n",
        "print(\"lr_tfidf_test_score :\", lr_tfidf_test_score)\n"
      ]
    },
    {
      "cell_type": "markdown",
      "metadata": {
        "id": "nKgBtuzDgNr1"
      },
      "source": [
        "#### **7.1.4. classification report**"
      ]
    },
    {
      "cell_type": "code",
      "execution_count": null,
      "metadata": {
        "_uuid": "f89c7e7a6136d08790ffbf6bc4d0d05455f8555a",
        "colab": {
          "base_uri": "https://localhost:8080/"
        },
        "id": "lCSS5EPfvVI8",
        "outputId": "1821707d-9f4a-4ae7-c3d3-7219a6f845e1",
        "trusted": true
      },
      "outputs": [
        {
          "name": "stdout",
          "output_type": "stream",
          "text": [
            "              precision    recall  f1-score   support\n",
            "\n",
            "    Positive       0.76      0.75      0.76      7524\n",
            "    Negative       0.75      0.76      0.76      7476\n",
            "\n",
            "    accuracy                           0.76     15000\n",
            "   macro avg       0.76      0.76      0.76     15000\n",
            "weighted avg       0.76      0.76      0.76     15000\n",
            "\n",
            "Runtime for Bag of Words: 0.0508 seconds\n",
            "\n",
            "              precision    recall  f1-score   support\n",
            "\n",
            "    Positive       0.76      0.75      0.75      7524\n",
            "    Negative       0.75      0.77      0.76      7476\n",
            "\n",
            "    accuracy                           0.76     15000\n",
            "   macro avg       0.76      0.76      0.76     15000\n",
            "weighted avg       0.76      0.76      0.76     15000\n",
            "\n",
            "Runtime for TF-IDF: 0.0387 seconds\n"
          ]
        }
      ],
      "source": [
        "# Measuring execution time for Bag of Words\n",
        "start_time_bow = time.time()\n",
        "\n",
        "# Classification report for Bag of Words\n",
        "lr_bow_report = classification_report(test_sentiments, lr_bow_predict, target_names=['Positive', 'Negative'])\n",
        "print(lr_bow_report)\n",
        "\n",
        "# Calculating the time taken\n",
        "end_time_bow = time.time()\n",
        "bow_runtime = end_time_bow - start_time_bow\n",
        "print(f\"Runtime for Bag of Words: {bow_runtime:.4f} seconds\\n\")\n",
        "\n",
        "# Measuring execution time for TF-IDF\n",
        "start_time_tfidf = time.time()\n",
        "\n",
        "# Classification report for TF-IDF features\n",
        "lr_tfidf_report = classification_report(test_sentiments, lr_tfidf_predict, target_names=['Positive', 'Negative'])\n",
        "print(lr_tfidf_report)\n",
        "\n",
        "# Calculating the time taken\n",
        "end_time_tfidf = time.time()\n",
        "tfidf_runtime = end_time_tfidf - start_time_tfidf\n",
        "print(f\"Runtime for TF-IDF: {tfidf_runtime:.4f} seconds\")\n"
      ]
    },
    {
      "cell_type": "markdown",
      "metadata": {
        "_uuid": "0d2e5ddcd69ff0fb52f05f17fc74a86e1b5e5b61",
        "id": "3zLev_-QvVI9"
      },
      "source": [
        "#### **7.1.5. Confusion matrix**"
      ]
    },
    {
      "cell_type": "code",
      "execution_count": null,
      "metadata": {
        "_uuid": "a36c058e834938559b7202f2142e61423a613b7a",
        "colab": {
          "base_uri": "https://localhost:8080/"
        },
        "id": "bdI0C_71vVI9",
        "outputId": "3083806d-4bfa-4a3e-f9fb-2b3abf9021c0",
        "trusted": true
      },
      "outputs": [
        {
          "name": "stdout",
          "output_type": "stream",
          "text": [
            "Confusion Matrix for Bag of Words:\n",
            "True Positive (TP): 5693\n",
            "False Positive (FP): 1861\n",
            "False Negative (FN): 1783\n",
            "True Negative (TN): 5663\n",
            "\n",
            "Confusion Matrix for TF-IDF:\n",
            "True Positive (TP): 5747\n",
            "False Positive (FP): 1914\n",
            "False Negative (FN): 1729\n",
            "True Negative (TN): 5610\n"
          ]
        }
      ],
      "source": [
        "# Confusion matrix untuk Bag of Words\n",
        "cm_bow = confusion_matrix(test_sentiments, lr_bow_predict, labels=[1, 0])\n",
        "print(\"Confusion Matrix for Bag of Words:\")\n",
        "print(f\"True Positive (TP): {cm_bow[0, 0]}\")\n",
        "print(f\"False Positive (FP): {cm_bow[1, 0]}\")\n",
        "print(f\"False Negative (FN): {cm_bow[0, 1]}\")\n",
        "print(f\"True Negative (TN): {cm_bow[1, 1]}\\n\")\n",
        "\n",
        "# Confusion matrix untuk TF-IDF features\n",
        "cm_tfidf = confusion_matrix(test_sentiments, lr_tfidf_predict, labels=[1, 0])\n",
        "print(\"Confusion Matrix for TF-IDF:\")\n",
        "print(f\"True Positive (TP): {cm_tfidf[0, 0]}\")\n",
        "print(f\"False Positive (FP): {cm_tfidf[1, 0]}\")\n",
        "print(f\"False Negative (FN): {cm_tfidf[0, 1]}\")\n",
        "print(f\"True Negative (TN): {cm_tfidf[1, 1]}\")\n"
      ]
    },
    {
      "cell_type": "markdown",
      "metadata": {
        "id": "JuSFuJtbq1TT"
      },
      "source": [
        "**Summary of Results**\n",
        "\n",
        "Based on the obtained results, **both methods** (Bag of Words and TF-IDF) demonstrate almost identical performance in terms of accuracy and other evaluation metrics, as follows:\n",
        "\n",
        "- **Accuracy:** 75.71% for both methods.\n",
        "- **Precision:** 76% for both methods.\n",
        "- **Recall:** 75% for both methods.\n",
        "- **F1-score:** 76% for both methods.\n",
        "\n",
        "However, **TF-IDF** has a slight advantage with a higher True Positive count (5747) and a lower False Positive count (1914) compared to Bag of Words, which has 5693 TP and 1861 FP."
      ]
    },
    {
      "cell_type": "markdown",
      "metadata": {
        "id": "d7XsZzdVhMOt"
      },
      "source": [
        "### **7.2. Stochastic Gradient Descent or Linear support vector machines (SVM)**"
      ]
    },
    {
      "cell_type": "markdown",
      "metadata": {
        "id": "z4y0oe0thYAb"
      },
      "source": [
        "#### **7.2.1 SVM model performane on train dataset**"
      ]
    },
    {
      "cell_type": "code",
      "execution_count": null,
      "metadata": {
        "colab": {
          "base_uri": "https://localhost:8080/"
        },
        "id": "kMjv3ivPhrrp",
        "outputId": "3cb70b54-ed11-40fa-b189-23c5f0190427"
      },
      "outputs": [
        {
          "name": "stdout",
          "output_type": "stream",
          "text": [
            "SVM model for Bag of Words:\n",
            " SGDClassifier(max_iter=500, random_state=42)\n",
            "SVM model for TF-IDF:\n",
            " SGDClassifier(max_iter=500, random_state=42)\n"
          ]
        }
      ],
      "source": [
        "# Initializing the Linear SVM model using SGDClassifier with hinge loss (SVM)\n",
        "svm = SGDClassifier(loss='hinge', max_iter=500, random_state=42)\n",
        "\n",
        "# Training the SVM model for Bag of Words\n",
        "svm_bow = svm.fit(cv_train_reviews, train_sentiments)\n",
        "print(\"SVM model for Bag of Words:\\n\", svm_bow)\n",
        "\n",
        "# Training the SVM model for TF-IDF features\n",
        "svm_tfidf = svm.fit(tv_train_reviews, train_sentiments)\n",
        "print(\"SVM model for TF-IDF:\\n\", svm_tfidf)\n"
      ]
    },
    {
      "cell_type": "markdown",
      "metadata": {
        "id": "iWJirz5zhYRW"
      },
      "source": [
        "#### **7.2.2. SVM model performane on test dataset**"
      ]
    },
    {
      "cell_type": "code",
      "execution_count": null,
      "metadata": {
        "colab": {
          "base_uri": "https://localhost:8080/"
        },
        "id": "qEpIoTtPiME_",
        "outputId": "05382c9d-c734-4bea-9957-4c09586894b0"
      },
      "outputs": [
        {
          "name": "stdout",
          "output_type": "stream",
          "text": [
            "SVM Bag of Words Predictions:\n",
            " [1 1 1 ... 1 1 1]\n",
            "SVM TF-IDF Predictions:\n",
            " [1 1 1 ... 1 1 1]\n"
          ]
        }
      ],
      "source": [
        "# Making predictions using the SVM model for Bag of Words\n",
        "svm_bow_predict = svm_bow.predict(cv_test_reviews)\n",
        "print(\"SVM Bag of Words Predictions:\\n\", svm_bow_predict)\n",
        "\n",
        "# Making predictions using the SVM model for TF-IDF features\n",
        "svm_tfidf_predict = svm_tfidf.predict(tv_test_reviews)\n",
        "print(\"SVM TF-IDF Predictions:\\n\", svm_tfidf_predict)\n"
      ]
    },
    {
      "cell_type": "markdown",
      "metadata": {
        "id": "hajooGrChYoS"
      },
      "source": [
        "#### **7.2.3. Accuracy of the model**"
      ]
    },
    {
      "cell_type": "code",
      "execution_count": null,
      "metadata": {
        "colab": {
          "base_uri": "https://localhost:8080/"
        },
        "id": "LqjmJHAbifLH",
        "outputId": "5201e913-6057-4ac9-f402-6a438393fc0f"
      },
      "outputs": [
        {
          "name": "stdout",
          "output_type": "stream",
          "text": [
            "svm_bow_train_score : 0.9927142857142857\n",
            "svm_bow_test_score : 0.5561333333333334\n",
            "svm_tfidf_train_score : 0.5006857142857143\n",
            "svm_tfidf_test_score : 0.4984\n"
          ]
        }
      ],
      "source": [
        "# Predicting the model for bag of words on training data (SVM)\n",
        "svm_bow_train_predict = svm_bow.predict(cv_train_reviews)\n",
        "\n",
        "# Predicting the model for tfidf features on training data (SVM)\n",
        "svm_tfidf_train_predict = svm_bow.predict(tv_train_reviews)\n",
        "\n",
        "# Accuracy score for bag of words on training data (SVM)\n",
        "svm_bow_train_score = accuracy_score(train_sentiments, svm_bow_train_predict)\n",
        "print(\"svm_bow_train_score :\", svm_bow_train_score)\n",
        "\n",
        "# Accuracy score for bag of words on test data (SVM)\n",
        "svm_bow_test_score = accuracy_score(test_sentiments, svm_bow_predict)\n",
        "print(\"svm_bow_test_score :\", svm_bow_test_score)\n",
        "\n",
        "# Accuracy score for tfidf features on training data (SVM)\n",
        "svm_tfidf_train_score = accuracy_score(train_sentiments, svm_tfidf_train_predict)\n",
        "print(\"svm_tfidf_train_score :\", svm_tfidf_train_score)\n",
        "\n",
        "# Accuracy score for tfidf features on test data (SVM)\n",
        "svm_tfidf_test_score = accuracy_score(test_sentiments, svm_tfidf_predict)\n",
        "print(\"svm_tfidf_test_score :\", svm_tfidf_test_score)\n"
      ]
    },
    {
      "cell_type": "markdown",
      "metadata": {
        "id": "YmfAOg85hY6u"
      },
      "source": [
        "#### **7.2.4. classification report**"
      ]
    },
    {
      "cell_type": "code",
      "execution_count": null,
      "metadata": {
        "colab": {
          "base_uri": "https://localhost:8080/"
        },
        "id": "Z1kaa7Yqi2xU",
        "outputId": "da71d246-51de-4735-e5b0-dbb6fba42ec0"
      },
      "outputs": [
        {
          "name": "stdout",
          "output_type": "stream",
          "text": [
            "              precision    recall  f1-score   support\n",
            "\n",
            "    Positive       0.95      0.12      0.22      7524\n",
            "    Negative       0.53      0.99      0.69      7476\n",
            "\n",
            "    accuracy                           0.56     15000\n",
            "   macro avg       0.74      0.56      0.45     15000\n",
            "weighted avg       0.74      0.56      0.45     15000\n",
            "\n",
            "Runtime for Bag of Words (SVM): 0.0499 seconds\n",
            "\n",
            "              precision    recall  f1-score   support\n",
            "\n",
            "    Positive       0.00      0.00      0.00      7524\n",
            "    Negative       0.50      1.00      0.67      7476\n",
            "\n",
            "    accuracy                           0.50     15000\n",
            "   macro avg       0.25      0.50      0.33     15000\n",
            "weighted avg       0.25      0.50      0.33     15000\n",
            "\n",
            "Runtime for TF-IDF (SVM): 0.0489 seconds\n"
          ]
        }
      ],
      "source": [
        "# Measuring execution time for Bag of Words (SVM)\n",
        "start_time_bow = time.time()\n",
        "\n",
        "# Classification report for Bag of Words (SVM)\n",
        "svm_bow_predict = svm.predict(cv_test_reviews)\n",
        "svm_bow_report = classification_report(test_sentiments, svm_bow_predict, target_names=['Positive', 'Negative'])\n",
        "print(svm_bow_report)\n",
        "\n",
        "# Calculating the time taken\n",
        "end_time_bow = time.time()\n",
        "bow_runtime = end_time_bow - start_time_bow\n",
        "print(f\"Runtime for Bag of Words (SVM): {bow_runtime:.4f} seconds\\n\")\n",
        "\n",
        "# Measuring execution time for TF-IDF (SVM)\n",
        "start_time_tfidf = time.time()\n",
        "\n",
        "# Classification report for TF-IDF features (SVM)\n",
        "svm_tfidf_predict = svm.predict(tv_test_reviews)\n",
        "svm_tfidf_report = classification_report(test_sentiments, svm_tfidf_predict, target_names=['Positive', 'Negative'])\n",
        "print(svm_tfidf_report)\n",
        "\n",
        "# Calculating the time taken\n",
        "end_time_tfidf = time.time()\n",
        "tfidf_runtime = end_time_tfidf - start_time_tfidf\n",
        "print(f\"Runtime for TF-IDF (SVM): {tfidf_runtime:.4f} seconds\")\n"
      ]
    },
    {
      "cell_type": "markdown",
      "metadata": {
        "id": "U8C1JragiF-5"
      },
      "source": [
        "#### **7.2.5. Confusion matrix**"
      ]
    },
    {
      "cell_type": "code",
      "execution_count": null,
      "metadata": {
        "colab": {
          "base_uri": "https://localhost:8080/"
        },
        "id": "oZllVGVfi65L",
        "outputId": "6464381b-5f2e-4ff8-b3b1-1bf5cf4f0d30"
      },
      "outputs": [
        {
          "name": "stdout",
          "output_type": "stream",
          "text": [
            "Confusion Matrix for Bag of Words (SVM):\n",
            "True Positive (TP): 7428\n",
            "False Positive (FP): 6610\n",
            "False Negative (FN): 48\n",
            "True Negative (TN): 914\n",
            "\n",
            "Confusion Matrix for TF-IDF (SVM):\n",
            "True Positive (TP): 7476\n",
            "False Positive (FP): 7524\n",
            "False Negative (FN): 0\n",
            "True Negative (TN): 0\n"
          ]
        }
      ],
      "source": [
        "# Confusion matrix for Bag of Words (SVM)\n",
        "cm_bow_svm = confusion_matrix(test_sentiments, svm_bow_predict, labels=[1, 0])\n",
        "print(\"Confusion Matrix for Bag of Words (SVM):\")\n",
        "print(f\"True Positive (TP): {cm_bow_svm[0, 0]}\")\n",
        "print(f\"False Positive (FP): {cm_bow_svm[1, 0]}\")\n",
        "print(f\"False Negative (FN): {cm_bow_svm[0, 1]}\")\n",
        "print(f\"True Negative (TN): {cm_bow_svm[1, 1]}\\n\")\n",
        "\n",
        "# Confusion matrix for TF-IDF features (SVM)\n",
        "cm_tfidf_svm = confusion_matrix(test_sentiments, svm_tfidf_predict, labels=[1, 0])\n",
        "print(\"Confusion Matrix for TF-IDF (SVM):\")\n",
        "print(f\"True Positive (TP): {cm_tfidf_svm[0, 0]}\")\n",
        "print(f\"False Positive (FP): {cm_tfidf_svm[1, 0]}\")\n",
        "print(f\"False Negative (FN): {cm_tfidf_svm[0, 1]}\")\n",
        "print(f\"True Negative (TN): {cm_tfidf_svm[1, 1]}\")\n"
      ]
    },
    {
      "cell_type": "markdown",
      "metadata": {
        "id": "2cM-kY6Prls5"
      },
      "source": [
        "**Results Summary**\n",
        "\n",
        "Based on the obtained results, the **SVM model** for **Bag of Words** demonstrated better performance compared to **TF-IDF**. Here are the details:\n",
        "\n",
        "- **Accuracy:**\n",
        "  - Bag of Words (SVM): 55.61%\n",
        "  - TF-IDF (SVM): 50.00%\n",
        "\n",
        "- **Precision and Recall:**\n",
        "  - **Bag of Words:**\n",
        "    - Precision for the Positive class: 95%, but Recall is only 12%, indicating that while the model can identify many positive predictions well, many are missed (False Negatives).\n",
        "    - For the Negative class, the model shows a very high Recall (99%), but with lower Precision (53%).\n",
        "  \n",
        "  - **TF-IDF:**\n",
        "    - The model failed to identify the Positive class at all (0% Precision and Recall).\n",
        "    - Only the Negative class was predicted, with a Recall of 100%, but with a Precision of 50%.\n",
        "\n",
        "- **F1-score:**\n",
        "  - **Bag of Words:** 22% for Positive and 69% for Negative, indicating a significant imbalance.\n",
        "  - **TF-IDF:** The F1-score for Positive is undefined, and 67% for Negative."
      ]
    },
    {
      "cell_type": "markdown",
      "metadata": {
        "id": "A2FqvkQWjHS7"
      },
      "source": [
        "### **7.3. Multinomial Naive Bayes**"
      ]
    },
    {
      "cell_type": "markdown",
      "metadata": {
        "id": "OLfGOiGDjHir"
      },
      "source": [
        "#### **7.3.1 Multinomial Naive Bayes model performane on train dataset**"
      ]
    },
    {
      "cell_type": "code",
      "execution_count": null,
      "metadata": {
        "colab": {
          "base_uri": "https://localhost:8080/"
        },
        "id": "AE7pu76xnlM6",
        "outputId": "ebc0f0ba-82a5-4150-a488-db4a6e4a0025"
      },
      "outputs": [
        {
          "name": "stdout",
          "output_type": "stream",
          "text": [
            "Naive Bayes model for Bag of Words trained:\n",
            " MultinomialNB()\n",
            "Naive Bayes model for TF-IDF trained:\n",
            " MultinomialNB()\n"
          ]
        }
      ],
      "source": [
        "from sklearn.naive_bayes import MultinomialNB\n",
        "\n",
        "# Initialize Naive Bayes model\n",
        "mnb = MultinomialNB()\n",
        "\n",
        "# Train Naive Bayes model for Bag of Words\n",
        "mnb_bow = mnb.fit(cv_train_reviews, train_sentiments)\n",
        "print(\"Naive Bayes model for Bag of Words trained:\\n\", mnb_bow)\n",
        "\n",
        "# Train Naive Bayes model for TF-IDF features\n",
        "mnb_tfidf = mnb.fit(tv_train_reviews, train_sentiments)\n",
        "print(\"Naive Bayes model for TF-IDF trained:\\n\", mnb_tfidf)\n"
      ]
    },
    {
      "cell_type": "markdown",
      "metadata": {
        "id": "txgcPFCJjHxq"
      },
      "source": [
        "#### **7.3.1 Multinomial Naive Bayes model performane on test dataset**"
      ]
    },
    {
      "cell_type": "code",
      "execution_count": null,
      "metadata": {
        "colab": {
          "base_uri": "https://localhost:8080/"
        },
        "id": "5Bqx8tQonmHy",
        "outputId": "df0074a3-546f-4708-ebcb-7093da6badc5"
      },
      "outputs": [
        {
          "name": "stdout",
          "output_type": "stream",
          "text": [
            "Naive Bayes Bag of Words Predictions:\n",
            " [0 0 1 ... 1 1 1]\n",
            "Naive Bayes TF-IDF Predictions:\n",
            " [0 0 1 ... 1 1 1]\n"
          ]
        }
      ],
      "source": [
        "# Make predictions for Bag of Words on the test data (Naive Bayes)\n",
        "mnb_bow_predict = mnb.predict(cv_test_reviews)\n",
        "print(\"Naive Bayes Bag of Words Predictions:\\n\", mnb_bow_predict)\n",
        "\n",
        "# Make predictions for TF-IDF features on the test data (Naive Bayes)\n",
        "mnb_tfidf_predict = mnb.predict(tv_test_reviews)\n",
        "print(\"Naive Bayes TF-IDF Predictions:\\n\", mnb_tfidf_predict)\n"
      ]
    },
    {
      "cell_type": "markdown",
      "metadata": {
        "id": "2DPhQ1l7jIBy"
      },
      "source": [
        "#### **7.3.3. Accuracy of the model**"
      ]
    },
    {
      "cell_type": "code",
      "execution_count": null,
      "metadata": {
        "colab": {
          "base_uri": "https://localhost:8080/"
        },
        "id": "rg0Dojjlo4yy",
        "outputId": "ab4c6d50-08b7-46d2-fc88-da6c96210b25"
      },
      "outputs": [
        {
          "name": "stdout",
          "output_type": "stream",
          "text": [
            "mnb_bow_train_score: 0.9927142857142857\n",
            "mnb_bow_score: 0.758\n",
            "mnb_tfidf_train_score: 0.9927142857142857\n",
            "mnb_tfidf_score: 0.758\n"
          ]
        }
      ],
      "source": [
        "# Make predictions for Bag of Words on the training data (Naive Bayes)\n",
        "mnb_bow_train_predict = mnb.predict(cv_train_reviews)\n",
        "\n",
        "# Make predictions for TF-IDF features on the training data (Naive Bayes)\n",
        "mnb_tfidf_train_predict = mnb.predict(tv_train_reviews)\n",
        "\n",
        "# Accuracy score for Bag of Words on the training data (Naive Bayes)\n",
        "mnb_bow_train_score = accuracy_score(train_sentiments, mnb_bow_train_predict)\n",
        "print(\"mnb_bow_train_score:\", mnb_bow_train_score)\n",
        "\n",
        "# Make predictions for Bag of Words on the test data (Naive Bayes)\n",
        "mnb_bow_predict = mnb.predict(cv_test_reviews)  # This line is modified to make predictions on the test data\n",
        "\n",
        "# Accuracy score for Bag of Words on the test data (Naive Bayes)\n",
        "mnb_bow_score = accuracy_score(test_sentiments, mnb_bow_predict)\n",
        "print(\"mnb_bow_score:\", mnb_bow_score)\n",
        "\n",
        "# Accuracy score for TF-IDF on the training data (Naive Bayes)\n",
        "mnb_tfidf_train_score = accuracy_score(train_sentiments, mnb_tfidf_train_predict)\n",
        "print(\"mnb_tfidf_train_score:\", mnb_tfidf_train_score)\n",
        "\n",
        "# Make predictions for TF-IDF on the test data (Naive Bayes)  # Similar modification for TF-IDF\n",
        "mnb_tfidf_predict = mnb.predict(tv_test_reviews)  # This line is modified to make predictions on the test data\n",
        "\n",
        "# Accuracy score for TF-IDF on the test data (Naive Bayes)\n",
        "mnb_tfidf_score = accuracy_score(test_sentiments, mnb_tfidf_predict)\n",
        "print(\"mnb_tfidf_score:\", mnb_tfidf_score)\n"
      ]
    },
    {
      "cell_type": "markdown",
      "metadata": {
        "id": "uyv-kPLdjIQq"
      },
      "source": [
        "#### **7.3.4. classification report**"
      ]
    },
    {
      "cell_type": "code",
      "execution_count": null,
      "metadata": {
        "colab": {
          "base_uri": "https://localhost:8080/"
        },
        "id": "gfXo3G5hnoa5",
        "outputId": "65518033-243f-4c49-f4a1-95d5649f4604"
      },
      "outputs": [
        {
          "name": "stdout",
          "output_type": "stream",
          "text": [
            "              precision    recall  f1-score   support\n",
            "\n",
            "    Positive       0.76      0.76      0.76      7524\n",
            "    Negative       0.76      0.75      0.76      7476\n",
            "\n",
            "    accuracy                           0.76     15000\n",
            "   macro avg       0.76      0.76      0.76     15000\n",
            "weighted avg       0.76      0.76      0.76     15000\n",
            "\n",
            "Runtime for Bag of Words (Naive Bayes): 0.1121 seconds\n",
            "\n",
            "              precision    recall  f1-score   support\n",
            "\n",
            "    Positive       0.76      0.76      0.76      7524\n",
            "    Negative       0.76      0.76      0.76      7476\n",
            "\n",
            "    accuracy                           0.76     15000\n",
            "   macro avg       0.76      0.76      0.76     15000\n",
            "weighted avg       0.76      0.76      0.76     15000\n",
            "\n",
            "Runtime for TF-IDF (Naive Bayes): 0.1064 seconds\n"
          ]
        }
      ],
      "source": [
        "# Measure execution time for Bag of Words (Naive Bayes)\n",
        "start_time_bow = time.time()\n",
        "\n",
        "# Make predictions for Bag of Words\n",
        "mnb_bow_predict = mnb.predict(cv_test_reviews)\n",
        "\n",
        "# Classification report for Bag of Words (Naive Bayes)\n",
        "mnb_bow_report = classification_report(test_sentiments, mnb_bow_predict, target_names=['Positive', 'Negative'])\n",
        "print(mnb_bow_report)\n",
        "\n",
        "# Calculate elapsed time\n",
        "end_time_bow = time.time()\n",
        "bow_runtime = end_time_bow - start_time_bow\n",
        "print(f\"Runtime for Bag of Words (Naive Bayes): {bow_runtime:.4f} seconds\\n\")\n",
        "\n",
        "# Measure execution time for TF-IDF (Naive Bayes)\n",
        "start_time_tfidf = time.time()\n",
        "\n",
        "# Make predictions for TF-IDF features\n",
        "mnb_tfidf_predict = mnb.predict(tv_test_reviews)\n",
        "\n",
        "# Classification report for TF-IDF features (Naive Bayes)\n",
        "mnb_tfidf_report = classification_report(test_sentiments, mnb_tfidf_predict, target_names=['Positive', 'Negative'])\n",
        "print(mnb_tfidf_report)\n",
        "\n",
        "# Calculate elapsed time\n",
        "end_time_tfidf = time.time()\n",
        "tfidf_runtime = end_time_tfidf - start_time_tfidf\n",
        "print(f\"Runtime for TF-IDF (Naive Bayes): {tfidf_runtime:.4f} seconds\")\n"
      ]
    },
    {
      "cell_type": "markdown",
      "metadata": {
        "id": "_eylSBrKndxq"
      },
      "source": [
        "#### **7.3.5. Confusion matrix**"
      ]
    },
    {
      "cell_type": "code",
      "execution_count": null,
      "metadata": {
        "colab": {
          "base_uri": "https://localhost:8080/"
        },
        "id": "h4QO_MA8npgL",
        "outputId": "6d3870fb-7a46-41d4-f374-30cc21a9685e"
      },
      "outputs": [
        {
          "name": "stdout",
          "output_type": "stream",
          "text": [
            "Confusion Matrix for Bag of Words (Naive Bayes):\n",
            "True Positive (TP): 5618\n",
            "False Positive (FP): 1772\n",
            "False Negative (FN): 1858\n",
            "True Negative (TN): 5752\n",
            "\n",
            "Confusion Matrix for TF-IDF (Naive Bayes):\n",
            "True Positive (TP): 5665\n",
            "False Positive (FP): 1819\n",
            "False Negative (FN): 1811\n",
            "True Negative (TN): 5705\n"
          ]
        }
      ],
      "source": [
        "# Confusion matrix for Bag of Words (Naive Bayes)\n",
        "cm_bow_mnb = confusion_matrix(test_sentiments, mnb_bow_predict, labels=[1, 0])\n",
        "print(\"Confusion Matrix for Bag of Words (Naive Bayes):\")\n",
        "print(f\"True Positive (TP): {cm_bow_mnb[0, 0]}\")\n",
        "print(f\"False Positive (FP): {cm_bow_mnb[1, 0]}\")\n",
        "print(f\"False Negative (FN): {cm_bow_mnb[0, 1]}\")\n",
        "print(f\"True Negative (TN): {cm_bow_mnb[1, 1]}\\n\")\n",
        "\n",
        "# Confusion matrix for TF-IDF features (Naive Bayes)\n",
        "cm_tfidf_mnb = confusion_matrix(test_sentiments, mnb_tfidf_predict, labels=[1, 0])\n",
        "print(\"Confusion Matrix for TF-IDF (Naive Bayes):\")\n",
        "print(f\"True Positive (TP): {cm_tfidf_mnb[0, 0]}\")\n",
        "print(f\"False Positive (FP): {cm_tfidf_mnb[1, 0]}\")\n",
        "print(f\"False Negative (FN): {cm_tfidf_mnb[0, 1]}\")\n",
        "print(f\"True Negative (TN): {cm_tfidf_mnb[1, 1]}\")\n"
      ]
    },
    {
      "cell_type": "markdown",
      "metadata": {
        "id": "uoQwzmICt0DZ"
      },
      "source": [
        "**Summary of Naive Bayes Results**\n",
        "\n",
        "The Naive Bayes model demonstrates similar accuracy (76%) for both approaches, Bag of Words and TF-IDF. However, in the **Confusion Matrix**:\n",
        "\n",
        "- **Bag of Words** has **5618 True Positives** and **1858 False Negatives**, indicating good performance in detecting the Positive class, though some predictions were missed.\n",
        "- **TF-IDF** performs slightly better with **5665 True Positives** and **1811 False Negatives**, meaning this model is more effective at identifying Positive sentiment compared to Bag of Words.\n",
        "\n",
        "Thus, **TF-IDF** is slightly superior in detecting the Positive class based on the confusion matrix, although both methods show good performance."
      ]
    },
    {
      "cell_type": "markdown",
      "metadata": {
        "id": "RRaqSdqpt-Qv"
      },
      "source": [
        "### **7.4. Conclusion**\n"
      ]
    },
    {
      "cell_type": "markdown",
      "metadata": {
        "id": "fjejXIqSxRSJ"
      },
      "source": [
        "After comparing the three models—**Naive Bayes, SVM, and Logistic Regression**, here is the evaluation:\n",
        "\n",
        "1. **Naive Bayes:**\n",
        "   - Accuracy: 76%\n",
        "   - Precision and Recall: Balanced (76% for each)\n",
        "   - Confusion Matrix: 5618 TP, 1858 FN\n",
        "\n",
        "2. **SVM (Bag of Words):**\n",
        "   - Accuracy: 55.61%\n",
        "   - Precision and Recall: Very imbalanced (Precision 95% but Recall only 12% for the Positive class)\n",
        "   - Confusion Matrix: 7428 TP, 48 FN\n",
        "\n",
        "3. **Logistic Regression:**\n",
        "   - Accuracy: 76%\n",
        "   - Precision and Recall: Balanced (76% for each)\n",
        "   - Confusion Matrix: 5701 TP, 1823 FN\n",
        "\n",
        "**Best Model:** Naive Bayes and Logistic Regression show balanced and better performance compared to SVM. However, Logistic Regression is slightly superior in terms of True Positives (TF-IDF) with 5747 TP compared to Naive Bayes in both BOW and TF-IDF, and has fewer False Negatives (FN). Additionally, the execution time for all three models is relatively fast, so there are no issues with runtime implementation.\n",
        "\n",
        "**Decision:** The primary focus is on balance and effectiveness in detecting the Positive class, making Logistic Regression with TF-IDF the best choice among the three models."
      ]
    }
  ],
  "metadata": {
    "colab": {
      "provenance": [],
      "toc_visible": true
    },
    "kernelspec": {
      "display_name": "Python 3",
      "language": "python",
      "name": "python3"
    },
    "language_info": {
      "codemirror_mode": {
        "name": "ipython",
        "version": 3
      },
      "file_extension": ".py",
      "mimetype": "text/x-python",
      "name": "python",
      "nbconvert_exporter": "python",
      "pygments_lexer": "ipython3",
      "version": "3.12.7"
    }
  },
  "nbformat": 4,
  "nbformat_minor": 0
}
